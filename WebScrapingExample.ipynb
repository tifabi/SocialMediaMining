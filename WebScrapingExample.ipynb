{
 "cells": [
  {
   "cell_type": "code",
   "execution_count": 2,
   "metadata": {},
   "outputs": [],
   "source": [
    "from pandas_datareader import data\n",
    "import pandas as pd\n",
    "import csv\n",
    "import string\n",
    "import datetime\n",
    "from collections import defaultdict\n",
    "from pandas.tseries.offsets import BDay\n",
    "from bs4 import BeautifulSoup\n",
    "import re\n",
    "import requests"
   ]
  },
  {
   "cell_type": "markdown",
   "metadata": {},
   "source": [
    "## Functions to retrieve stock data"
   ]
  },
  {
   "cell_type": "code",
   "execution_count": 3,
   "metadata": {},
   "outputs": [],
   "source": [
    "def stockData(startDate, endDate, ticker):\n",
    "    # Define which online source one should use\n",
    "    data_source = 'google'\n",
    "\n",
    "    # User pandas_reader.data.DataReader to load the desired data.\n",
    "    panel_data = data.DataReader(ticker, data_source, startDate, endDate)\n",
    "\n",
    "    close = panel_data.ix['Close']\n",
    "    volume = panel_data.ix['Volume']\n",
    "    op = panel_data.ix['Open']\n",
    "    high = panel_data.ix['High']\n",
    "    low = panel_data.ix['Low']\n",
    "\n",
    "    # Getting all weekdays between 01/01/2017 and 12/31/2017\n",
    "    all_weekdays = pd.date_range(start=startDate, end=endDate, freq='B')\n",
    "\n",
    "    # Align new set of dates\n",
    "    close = close.reindex(all_weekdays)\n",
    "    volume = volume.reindex(all_weekdays)\n",
    "    op = op.reindex(all_weekdays)\n",
    "    high = high.reindex(all_weekdays)\n",
    "    low = low.reindex(all_weekdays)\n",
    "\n",
    "    result = pd.concat([close, volume, op, high, low], axis=1, join='inner')\n",
    "    result.columns = ['close', 'volume', 'open', 'high', 'low']\n",
    "    return result\n",
    "\n",
    "\n",
    "def findHigh(startDate, ticker):\n",
    "    # Get date and five days after\n",
    "    temp_date = datetime.datetime.strptime(startDate, \"%Y-%m-%d\")\n",
    "    endDate = temp_date + BDay(5)\n",
    "\n",
    "    result = stockData(startDate, endDate, ticker)\n",
    "    tempHigh = result.nlargest(1, 'high')\n",
    "    high = tempHigh.iloc[0]['high']\n",
    "    return high\n",
    "\n",
    "\n",
    "def openPrice(startDate, ticker):\n",
    "    temp_date = datetime.datetime.strptime(startDate, \"%Y-%m-%d\")\n",
    "    endDate = temp_date + BDay(1)\n",
    "\n",
    "    result = stockData(startDate, endDate, ticker)\n",
    "    open = result.iloc[0]['open']\n",
    "    return open"
   ]
  },
  {
   "cell_type": "markdown",
   "metadata": {},
   "source": [
    "## Search Google for news on stocks of choice"
   ]
  },
  {
   "cell_type": "code",
   "execution_count": 6,
   "metadata": {},
   "outputs": [
    {
     "name": "stdout",
     "output_type": "stream",
     "text": [
      "https://seekingalpha.com/article/4201510-apple-lowering-expectations&amp;sa=U&amp;ved=0ahUKEwjfkIvauoXdAhXQz1MKHe7KB1QQqQIIFCgAMAA&amp;usg=AOvVaw0SpZxkYoVE-N8sOLhgDlTt\n"
     ]
    }
   ],
   "source": [
    "tickers = ['GOOGL','MSFT','AAPL']\n",
    "\n",
    "for stock in tickers:\n",
    "    url = 'https://www.google.com/search?q=' + stock + '&source=lnms&tbm=nws'\n",
    "    response = requests.get(url)\n",
    "\n",
    "    soup = BeautifulSoup(response.content, \"html.parser\")\n",
    "\n",
    "    links = []\n",
    "    for tag in soup.findAll('a', href=True):\n",
    "        link = re.findall('http*.*://*.*\">', str(tag))\n",
    "        if len(link) > 0 and re.search('google', str(link)) is None and re.search('youtube', str(link)) is None:\n",
    "            links.append(link[0][:-2])\n",
    "            \n",
    "    \n",
    "print(links[0])"
   ]
  },
  {
   "cell_type": "markdown",
   "metadata": {},
   "source": [
    "## Scrape websites for text\n",
    "\n",
    "The two methods below can be used to  pull text from the links collected above. Currently only using demo links. Some websites block requests.get so I used Selenium to pull the whole page source from one such site. Selenium is slow and might not be the greatest option."
   ]
  },
  {
   "cell_type": "code",
   "execution_count": 16,
   "metadata": {},
   "outputs": [
    {
     "name": "stdout",
     "output_type": "stream",
     "text": [
      "Shutterstock photo\n",
      "\n",
      "\n",
      "Top Tech Stocks MSFT +0.67% AAPL +0.45%makeArticleAd(); IBM -0.09% CSCO -0.03% GOOG +0.07% Technology stocks have turned higher Thursday afternoon, with the shares of tech stocks in the S&P 500 were adding over 0.2% in value while the Philadelphia Semiconductor Index was hanging on to a more than 0.1% gain. Among technology stocks moving on news: + FireEye ( FEYE  ) advanced Thursday, topping out with a 10% gain, following reports the cybersecurity company helped sector titans Facebook ( FB  ) and Alphabet's (GOOG,GOOGL) Google unit to identify Iranian influence campaigns on their respective websites. The New York Times reported FireEye executives tipped Facebook off to an Iranian disinformation campaign, which led to further discoveries of other campaigns from both Iran and Russia. FireEye also worked with Google's internal threat analysis divisions to help spot Iranian influence operations in its YouTube and email products, Google said today in a statement. In other sector news: + Super Micro Computer ( SMCI  ) soared more than 11% higher on Thursday after saying it plans to appeal a decision by the Nasdaq stock market to delist its stock because it has not filed its latest annual report and several quarterly reports in a timely manner with regulators. During the appeal period, trading SMCI shares will be suspended from trading but Nasdaq agreed to not delist the shares, the company said. + Comtech Telecommunications ( CMTL  ) was fractionally higher Thursday after saying one of its units in Arizona has won a $1.3 million order for satellite communications infrastructure equipment from a major defense contractor in Q4. - Activision Blizzard ( ATVI  ) fell almost 1% today despite selling more than 3.4 million units of the latest World of Warcraft expansion worldwide since August 14, setting a new day-one sales record for the franchise and making it one of the fastest-selling PC games of all time.\n",
      "\n",
      "\n",
      "\n",
      "The views and opinions expressed herein are the views and opinions of the author and do not necessarily reflect those of Nasdaq, Inc.\n",
      "\n",
      "\n",
      "\n",
      "\n"
     ]
    }
   ],
   "source": [
    "url = 'https://www.nasdaq.com/article/technology-sector-update-for-08232018-feyegooggooglfbsmcicmtlatvi-cm1012272'\n",
    "\n",
    "response = requests.get(url)\n",
    "\n",
    "soup = BeautifulSoup(response.content, \"html.parser\")\n",
    "\n",
    "text = soup.get_text()\n",
    "\n",
    "text = str(text)\n",
    "\n",
    "text = text[text.find('Shutterstock'):]\n",
    "\n",
    "text = text[:text.find('Copyright')]\n",
    "\n",
    "\n",
    "print(text)"
   ]
  },
  {
   "cell_type": "markdown",
   "metadata": {},
   "source": [
    "#### Selenium example to get text from Seeking Alpha"
   ]
  },
  {
   "cell_type": "code",
   "execution_count": 17,
   "metadata": {},
   "outputs": [
    {
     "name": "stdout",
     "output_type": "stream",
     "text": [
      "SummaryIn recent earnings, Apple has touted the growth of Apple Pay and its future growth potential.A recent report from Juniper Research predicts that Apple will corner 50% market share of mobile payments among OEMs by 2020.Important international markets for Apple have different payment ecosystem which can hinder the growth of Apple Pay.Over the long run, retailers like Amazon, Walmart, and Alibaba have a much better ecosystem for building a strong payments business instead of phone companies like Apple.Any long-term growth expectation of Apple Pay would need to be moderated.Apple (AAPL) has repeatedly mentioned the progress it is making in the payments segments. A recent report from Juniper Research strengthens their point by showing massive growth in mobile wallets of OEM or original equipment manufacturer. The report says that OEM mobile pay users will increase to 450 million by 2020 and total transactions would increase to $300 billion. It also mentions that Apple will corner 50% of this market. Apple Pay gained a big win when Costco (COST) announced support for it in all the stores. However, Apple faces a number of inherent disadvantages which can limit its growth potential in this segment. We need to note that Apple gets only 42% of its revenue from Americas region. In many other important regions like China and Japan, the payments ecosystem is quite different compared to the U.S. There will also be a strong push to increase the market share in payments by Amazon (AMZN) and Walmart (WMT). If this ends up as a two-horse race similar to what happened in China, we could see a limited growth potential of Apple Pay in the U.S. \n",
      "\n",
      " Fig: Share of Apple Pay in mobile wallet transactions. Source: Pymnts\n",
      " A positive report, but with caveats Juniper Research's report shows a good growth runway for Apple Pay. Apple is trying aggressively to increase the usage of Apple Pay as it pursues its goal of improving the Services segment. However, the report also mentions that OEM pay options which include Apple Pay, Samsung Pay, Google Pay, etc. to represent only 15% of total contactless in-store transactions within two years. Even if Apple corners a big portion of this pie, it would still be in the single digits when we look at the overall mobile payments. We should also not limit the scope to only the domestic U.S. market. Apple makes a majority of its revenues in international markets. Hence, it is important to look at the dynamics of the ecosystem within important regions for Apple. China contributed 19.5% of Apple's total revenue in the last fiscal year. This region is completely dominated by the mobile payment options of Alibaba's (NYSE:BABA) Alipay and its rival Tencent's (OTCPK:TCEHY) WeChat Pay app. Together, Alipay and WeChat Pay have cornered over 90% of the market in China. The total transaction volume of mobile payments in China is also huge. In this situation, it is very difficult for any third provider to establish a foothold. Although Apple has a high market share in the premium smartphone segment in China, it will have an uphill task in getting any meaningful share of the mobile payments transaction. The situation in Japan is quite different. This region contributed 7.7% of the Apple's revenue. SoftBank (OTCPK:SFTBY) and Amazon Pay are trying aggressively to build a strong payment business. Existing services of Apple Pay require dedicated terminals, which can be quite expensive for small merchants. On the other hand, most of the operators have started using QR codes which do not require any new equipment. Another major region for Apple is Europe which contributed 24% of its revenue base in the last fiscal. Recently, Apple Pay has been launched in Norway, Poland, and Ukraine. However, the payment ecosystem in different countries of Europe is not homogenous. There is a higher usage of debit cards compared to credit cards. The different banking regulations in this region will also be a headwind for Apple Pay.\n",
      " In the U.S., the adoption of Walmart Pay has outpaced other OEM options. Retail giants like Amazon and Walmart have an intrinsic advantage over OEMs. Customers use their platform for purchases on a daily basis. This can allow them to promote their own respective payment options. They can also be used on both Apple and Android systems, which allows easier processing or transfers. Can Apple Pay become one of the major players? Mobile payments are yet to take off in the U.S. compared to China. However, once they are accepted, there is a strong possibility that it will end up with two or three major players. Jamie Dimon, CEO of JPMorgan Chase & Co. (JPM), mentioned this to company's investors in February. He said, \"this is going to be a battle of all time - like who dominates all those services\". He added about the payment services, \"Everyone wants to be the place that is the only place you go to do that.\" \n",
      "\n",
      " Fig: Services segment which includes Apple Pay is considered to be the biggest driver of future revenue. Source: Company filings Apple Pay revenue is reported within the Services segment. In terms of incremental revenue, Services segment had a huge contribution. Having a strong payment service provides additional support to other services provided by the company. One of the best examples would be Alibaba's Alipay. Alibaba has used the strong market position of Alipay to launch new services and build a bigger moat around its ecosystem. If Apple is not able to increase the market share of Apple Pay, it will reduce the benefit of future services provided by the company. Eventually, it could also limit the growth rate of its Services segment. Retailers like Amazon and Walmart have the scale and the technology to support a massive mobile payment service. Amazon is already focusing on this in many markets. Recently it plowed $34 million in its Indian operations specifically to grow Amazon Pay. Amazon Pay India has an authorized capital of $305 million to improve the market share of Amazon's payment service in India.\n",
      " Apple does have an advantage in the U.S. market when it comes to mobile payments. Both Amazon and Walmart are huge retailers, but there are several other smaller retailers and merchants who would not like to partner with either of these behemoths. They could increasingly choose Apple Pay as the company is not a direct competitor for them. Banks also stand to lose a lot if Amazon grabs the biggest share of mobile payments in the U.S. because Amazon has bigger ambitions in the banking space. Again, Apple Pay would be a better alternative for them to partner with. Valuation \n",
      "\n",
      " Fig: Apple's EV to EBIT ratio is close to its highest point in this decade. Apple's valuation is already hitting the highest point in this decade. The EV to EBIT ratio is at 14.74, which is close to the peak in the post-recession era. At this level, the company needs all the catalysts for future growth. The company's management is regularly talking about the growth of Apple Pay in different regions. However, it faces an uphill task in building a payments platform which will have a market share of more than a few percentage points. Overall, Apple Pay would need to overcome a lot of challenges to build a significant hold in the payments space. This would also depend on how much Apple is able to grow its ecosystem and unit sales shipments in the next few years. Investor Takeaway Apple Pay is sometimes seen as a big growth driver for Apple in the near future. However, its growth in many international markets faces major obstacles including strong incumbents and low device market share. In the U.S. market, if there is a big transition towards mobile payments, Apple would need to compete against Amazon and Walmart who have huge customer base. Apple's management has mentioned several times about the rapid growth within Apple Pay. But it is important to have realistic expectations about the future transaction volume which Apple Pay can corner in the domestic as well as international markets.\n",
      "\n",
      "Disclosure: I/we have no positions in any stocks mentioned, and no plans to initiate any positions within the next 72 hours. \n",
      "I wrote this article myself, and it expresses my own opinions. I am not receiving compensation for it (other than from Seeking Alpha). I have no business relationship with any company whose stock is mentioned in this article.\n",
      "\n",
      "\n",
      "\n",
      "\n",
      "Like this article\n",
      "\n",
      "\n",
      "\n",
      "\n",
      "\n",
      "\n",
      "page 1 / 5\n",
      "|\n",
      "\n"
     ]
    }
   ],
   "source": [
    "testLinks=['https://seekingalpha.com/article/4201510-apple-lowering-expectations&amp;sa=U&amp;ved=0ahUKEwjrk_6QvYTdAhXStlkKHY7_BwsQqQIIFCgAMAA&amp;usg=AOvVaw2gjPdaazl71IUdWouOJyrn']\n",
    "\n",
    "from selenium import webdriver\n",
    "\n",
    "\n",
    "for url in testLinks:\n",
    "    driver = webdriver.Chrome(r'C:\\Users\\tiffany.fabianac\\PycharmProjects\\WINWIN\\venv\\Lib\\site-packages\\selenium\\webdriver\\chrome\\chromedriver.exe')\n",
    "    driver.get(url)\n",
    "\n",
    "    soup = BeautifulSoup(driver.page_source,'lxml')\n",
    "    driver.quit()\n",
    "\n",
    "    text = soup.get_text()\n",
    "    text = re.sub(r'{*.*}', ' ', text)\n",
    "    text = re.sub(r'{*.*;', ' ', text)\n",
    "    \n",
    "    text = text[text.find('Summary'):]\n",
    "\n",
    "    text = text[:text.find('Next')]\n",
    "    \n",
    "    print(text)"
   ]
  },
  {
   "cell_type": "markdown",
   "metadata": {},
   "source": [
    "## Extract Features\n",
    "\n",
    "This method is using CountVectorizer to get unique words and eliminate stop words & symbols. "
   ]
  },
  {
   "cell_type": "code",
   "execution_count": 18,
   "metadata": {},
   "outputs": [
    {
     "name": "stdout",
     "output_type": "stream",
     "text": [
      "The Features: ['aapl', 'able', 'accepted', 'added', 'additional', 'adoption', 'advantage', 'aggressively', 'alibaba', 'alipay', 'allow', 'allows', 'alpha', 'alternative', 'amazon', 'ambitions', 'americas', 'amzn', 'android', 'announced', 'app', 'apple', 'article', 'authorized', 'baba', 'banking', 'banks', 'base', 'basis', 'battle', 'behemoths', 'benefit', 'best', 'better', 'big', 'bigger', 'biggest', 'billion', 'build', 'building', 'business', 'capital', 'cards', 'catalysts', 'caveats', 'ceo', 'challenges', 'chase', 'china', 'choose', 'close', 'codes', 'comes', 'companies', 'company', 'compared', 'compensation', 'compete', 'competitor', 'completely', 'considered', 'contactless', 'contributed', 'contribution', 'corner', 'cornered', 'corners', 'cost', 'costco', 'countries', 'credit', 'customer', 'customers', 'daily', 'debit', 'decade', 'dedicated', 'depend', 'device', 'different', 'difficult', 'digits', 'dimon', 'direct', 'disadvantages', 'disclosure', 'does', 'domestic', 'dominated', 'dominates', 'driver', 'dynamics', 'earnings', 'easier', 'ebit', 'ecosystem', 'end', 'ends', 'equipment', 'era', 'establish', 'europe', 'ev', 'eventually', 'examples', 'existing', 'expectation', 'expectations', 'expensive', 'expresses', 'faces', 'february', 'fig', 'filings', 'fiscal', 'focusing', 'foothold', 'future', 'gained', 'gets', 'getting', 'giants', 'goal', 'going', 'good', 'google', 'grabs', 'grow', 'growth', 'hand', 'happened', 'having', 'headwind', 'high', 'higher', 'highest', 'hinder', 'hitting', 'hold', 'homogenous', 'horse', 'hours', 'huge', 'important', 'improve', 'improving', 'include', 'includes', 'including', 'increase', 'increasingly', 'incremental', 'incumbents', 'india', 'indian', 'inherent', 'initiate', 'instead', 'international', 'intrinsic', 'investor', 'investors', 'jamie', 'japan', 'jpm', 'jpmorgan', 'juniper', 'launch', 'launched', 'level', 'like', 'limit', 'limited', 'long', 'look', 'lose', 'lot', 'low', 'major', 'majority', 'makes', 'making', 'management', 'manufacturer', 'market', 'markets', 'massive', 'meaningful', 'mentioned', 'mentions', 'merchants', 'million', 'moat', 'mobile', 'moderated', 'near', 'need', 'needs', 'new', 'norway', 'note', 'number', 'nyse', 'obstacles', 'oem', 'oems', 'operations', 'operators', 'opinions', 'options', 'original', 'otcpk', 'outpaced', 'overall', 'overcome', 'page', 'partner', 'pay', 'payment', 'payments', 'peak', 'percentage', 'phone', 'pie', 'place', 'plans', 'platform', 'players', 'plowed', 'point', 'points', 'poland', 'portion', 'position', 'positions', 'positive', 'possibility', 'post', 'potential', 'predicts', 'premium', 'processing', 'progress', 'promote', 'provided', 'provider', 'provides', 'purchases', 'pursues', 'push', 'pymnts', 'qr', 'quite', 'race', 'rapid', 'rate', 'ratio', 'realistic', 'receiving', 'recent', 'recently', 'recession', 'reduce', 'region', 'regions', 'regularly', 'regulations', 'relationship', 'repeatedly', 'report', 'reported', 'represent', 'require', 'research', 'respective', 'retail', 'retailers', 'revenue', 'revenues', 'rival', 'run', 'runway', 'said', 'sales', 'samsung', 'says', 'scale', 'scope', 'seeking', 'seen', 'segment', 'segments', 'service', 'services', 'sftby', 'share', 'shipments', 'showing', 'shows', 'significant', 'similar', 'single', 'situation', 'small', 'smaller', 'smartphone', 'softbank', 'source', 'space', 'specifically', 'stand', 'started', 'stock', 'stocks', 'store', 'stores', 'strengthens', 'strong', 'summaryin', 'support', 'systems', 'takeaway', 'talking', 'task', 'tcehy', 'technology', 'tencent', 'term', 'terminals', 'terms', 'time', 'times', 'total', 'touted', 'transaction', 'transactions', 'transfers', 'transition', 'trying', 'ukraine', 'unit', 'uphill', 'usage', 'use', 'used', 'users', 'using', 'valuation', 'volume', 'wallet', 'wallets', 'walmart', 'wants', 'wechat', 'win', 'wmt', 'wrote', 'year', 'years']\n"
     ]
    }
   ],
   "source": [
    "from sklearn.feature_extraction.text import CountVectorizer\n",
    "\n",
    "vect = CountVectorizer(analyzer=\"word\", lowercase=True,\n",
    "                                max_features=5000, stop_words='english', token_pattern=r'\\b[a-zA-Z]{2,}\\b')\n",
    "text=[text]\n",
    "bag_of_words = vect.fit_transform(text)\n",
    "\n",
    "print(\"The Features: {0}\".format(vect.get_feature_names()))"
   ]
  }
 ],
 "metadata": {
  "kernelspec": {
   "display_name": "Python 3",
   "language": "python",
   "name": "python3"
  },
  "language_info": {
   "codemirror_mode": {
    "name": "ipython",
    "version": 3
   },
   "file_extension": ".py",
   "mimetype": "text/x-python",
   "name": "python",
   "nbconvert_exporter": "python",
   "pygments_lexer": "ipython3",
   "version": "3.6.4"
  }
 },
 "nbformat": 4,
 "nbformat_minor": 2
}
